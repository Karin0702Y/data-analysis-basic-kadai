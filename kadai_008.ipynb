{
  "nbformat": 4,
  "nbformat_minor": 0,
  "metadata": {
    "colab": {
      "provenance": []
    },
    "kernelspec": {
      "name": "python3",
      "display_name": "Python 3"
    },
    "language_info": {
      "name": "python"
    }
  },
  "cells": [
    {
      "cell_type": "code",
      "execution_count": 11,
      "metadata": {
        "colab": {
          "base_uri": "https://localhost:8080/"
        },
        "id": "10MNltJRwFcE",
        "outputId": "93804e88-5f69-4594-b182-eb7e6f5cdbea"
      },
      "outputs": [
        {
          "output_type": "execute_result",
          "data": {
            "text/plain": [
              "0.9629629629629629"
            ]
          },
          "metadata": {},
          "execution_count": 11
        }
      ],
      "source": [
        "#1. サンプルデータの取得\n",
        "from sklearn.datasets import load_wine #load_wine関数をインポート\n",
        "#datasetという変数にload_wine()を代入\n",
        "dataset = load_wine()\n",
        "\n",
        "#2. サンプルデータの分割\n",
        "X = dataset.data\n",
        "y = dataset.target #説明変数（ワインの成分）を変数Xに、目的変数（ワインの種別）を変数yに代入\n",
        "from sklearn.model_selection import train_test_split #train_test_split関数をインポート\n",
        "train_test_split(X, y, test_size=0.3, random_state=5)\n",
        "X_train, X_test, y_train, y_test = train_test_split(X, y, test_size=0.3, random_state=5)#4つの要素をそれぞれ、変数X_train, X_test, y_train, y_testに代入\n",
        "\n",
        "#3. 予測モデルのインスタンス化\n",
        "from sklearn.ensemble import RandomForestClassifier#ensembleモジュールのRandomForestClassifierクラスをインポート\n",
        "model = RandomForestClassifier(random_state=3)#インポートしたRandomForestClassifierクラスをインスタンス化して、modelという変数に代入\n",
        "\n",
        "#4. 予測モデルの学習\n",
        "model.fit(X_train, y_train)\n",
        "#modelを学習\n",
        "\n",
        "#5. 予測モデルの評価\n",
        "y_pred = model.predict(X_test)\n",
        "y_pred\n",
        "#predictメソッドの引数には、説明変数XのテストデータであるX_testを指定します。予測値を変数y_predに代入\n",
        "from sklearn.metrics import accuracy_score#metricsモジュールのaccuracy_score関数を実行することで、正解率を出力\n",
        "accuracy_score(y_test, y_pred)#第1引数にテストデータであるy_testを、第2引数に予測値であるy_predをセット\n",
        "\n",
        "#6. 予測\n",
        "import numpy as np\n",
        "X_real = np.array([\n",
        "    [13, 1.6, 2.2, 16, 118, 2.6, 2.9, 0.21, 1.6, 5.8, 0.92, 3.2, 1011],\n",
        "    [12, 2.8, 2.2, 18, 100, 2.5, 2.3, 0.25, 2.0, 2.2, 1.15, 3.3, 1000],\n",
        "    [14, 4.1, 2.7, 24, 101, 1.6, 0.7, 0.53, 1.4, 9.4, 0.61, 1.6, 560]])#簡易的にダミーデータを作成\n",
        "\n",
        "model.predict(X_real)\n"
      ]
    },
    {
      "cell_type": "code",
      "source": [
        "\n"
      ],
      "metadata": {
        "id": "t_REsK6x_KVv"
      },
      "execution_count": null,
      "outputs": []
    }
  ]
}