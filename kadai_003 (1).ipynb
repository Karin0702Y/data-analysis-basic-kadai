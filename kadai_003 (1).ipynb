{
  "nbformat": 4,
  "nbformat_minor": 0,
  "metadata": {
    "colab": {
      "provenance": []
    },
    "kernelspec": {
      "name": "python3",
      "display_name": "Python 3"
    },
    "language_info": {
      "name": "python"
    }
  },
  "cells": [
    {
      "cell_type": "code",
      "execution_count": 4,
      "metadata": {
        "colab": {
          "base_uri": "https://localhost:8080/"
        },
        "id": "gm56sEefvtXo",
        "outputId": "1286a73e-4411-43ef-a01f-9f37c36163e2"
      },
      "outputs": [
        {
          "output_type": "execute_result",
          "data": {
            "text/plain": [
              "array([[ 4,  5,  6,  7],\n",
              "       [12, 17, 22, 27],\n",
              "       [20, 29, 38, 47]])"
            ]
          },
          "metadata": {},
          "execution_count": 4
        }
      ],
      "source": [
        "import numpy as np  #Step1\n",
        "\n",
        "A = np.array([[0,1], [2, 3], [4, 5]])\n",
        "B = np.array([[0,1,2,3], [4, 5, 6,7]]) #Step2\n",
        "AB =np.dot(A, B) #Step3\n",
        "AB  #Step4\n"
      ]
    },
    {
      "cell_type": "code",
      "source": [
        "np.max(AB)#Step5"
      ],
      "metadata": {
        "colab": {
          "base_uri": "https://localhost:8080/"
        },
        "id": "2n9Qz05-xm8e",
        "outputId": "d59e159f-7589-4d34-c916-234e2a067cc7"
      },
      "execution_count": 6,
      "outputs": [
        {
          "output_type": "execute_result",
          "data": {
            "text/plain": [
              "47"
            ]
          },
          "metadata": {},
          "execution_count": 6
        }
      ]
    },
    {
      "cell_type": "code",
      "source": [],
      "metadata": {
        "id": "-XxflbE3wf-u"
      },
      "execution_count": null,
      "outputs": []
    }
  ]
}